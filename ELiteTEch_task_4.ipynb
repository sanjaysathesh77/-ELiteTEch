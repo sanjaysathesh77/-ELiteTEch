{
  "nbformat": 4,
  "nbformat_minor": 0,
  "metadata": {
    "colab": {
      "provenance": []
    },
    "kernelspec": {
      "name": "python3",
      "display_name": "Python 3"
    },
    "language_info": {
      "name": "python"
    }
  },
  "cells": [
    {
      "cell_type": "code",
      "source": [
        "!pip install pulp"
      ],
      "metadata": {
        "colab": {
          "base_uri": "https://localhost:8080/"
        },
        "id": "5gQCQBoCwc2y",
        "outputId": "b529905a-6432-4ced-a46a-d44c88a2d11d"
      },
      "execution_count": 2,
      "outputs": [
        {
          "output_type": "stream",
          "name": "stdout",
          "text": [
            "Collecting pulp\n",
            "  Downloading pulp-3.1.1-py3-none-any.whl.metadata (1.3 kB)\n",
            "Downloading pulp-3.1.1-py3-none-any.whl (16.4 MB)\n",
            "\u001b[2K   \u001b[90m━━━━━━━━━━━━━━━━━━━━━━━━━━━━━━━━━━━━━━━━\u001b[0m \u001b[32m16.4/16.4 MB\u001b[0m \u001b[31m101.9 MB/s\u001b[0m eta \u001b[36m0:00:00\u001b[0m\n",
            "\u001b[?25hInstalling collected packages: pulp\n",
            "Successfully installed pulp-3.1.1\n"
          ]
        }
      ]
    },
    {
      "cell_type": "code",
      "execution_count": 3,
      "metadata": {
        "colab": {
          "base_uri": "https://localhost:8080/"
        },
        "id": "Xusc2y9NwUqN",
        "outputId": "d395e87e-f55c-4dcd-dd21-f75e5ea3d04c"
      },
      "outputs": [
        {
          "output_type": "stream",
          "name": "stdout",
          "text": [
            "Status: Optimal\n",
            "Optimal number of Product A to produce: 26.0\n",
            "Optimal number of Product B to produce: 12.0\n",
            "Maximum Profit: $ 880.0\n",
            "\n",
            "Resources Used:\n",
            "Machine Hours Used: 100.0 / 100\n",
            "Labor Hours Used: 90.0 / 90\n",
            "Unused Machine Hours: 0.0\n",
            "Unused Labor Hours: 0.0\n"
          ]
        }
      ],
      "source": [
        "# 📌 Step 1: Import required libraries\n",
        "import pulp\n",
        "\n",
        "# 📌 Step 2: Define the problem\n",
        "# Maximize profit\n",
        "model = pulp.LpProblem(\"Product_Mix_Optimization\", pulp.LpMaximize)\n",
        "\n",
        "# 📌 Step 3: Define decision variables\n",
        "# Number of units of Product A and B\n",
        "A = pulp.LpVariable(\"Product_A\", lowBound=0, cat='Continuous')\n",
        "B = pulp.LpVariable(\"Product_B\", lowBound=0, cat='Continuous')\n",
        "\n",
        "# 📌 Step 4: Define the objective function\n",
        "# Maximize 20A + 30B\n",
        "model += 20 * A + 30 * B, \"Total Profit\"\n",
        "\n",
        "# 📌 Step 5: Define constraints\n",
        "# Machine hours constraint: 2A + 4B <= 100\n",
        "model += 2 * A + 4 * B <= 100, \"Machine Hours\"\n",
        "\n",
        "# Labor hours constraint: 3A + 1B <= 90\n",
        "model += 3 * A + 1 * B <= 90, \"Labor Hours\"\n",
        "\n",
        "# 📌 Step 6: Solve the problem\n",
        "model.solve()\n",
        "\n",
        "# 📌 Step 7: Output the results\n",
        "print(\"Status:\", pulp.LpStatus[model.status])\n",
        "print(\"Optimal number of Product A to produce:\", A.varValue)\n",
        "print(\"Optimal number of Product B to produce:\", B.varValue)\n",
        "print(\"Maximum Profit: $\", pulp.value(model.objective))\n",
        "\n",
        "# 📌 Step 8: Insights\n",
        "used_machine_hours = 2*A.varValue + 4*B.varValue\n",
        "used_labor_hours = 3*A.varValue + 1*B.varValue\n",
        "\n",
        "print(\"\\nResources Used:\")\n",
        "print(f\"Machine Hours Used: {used_machine_hours} / 100\")\n",
        "print(f\"Labor Hours Used: {used_labor_hours} / 90\")\n",
        "print(f\"Unused Machine Hours: {100 - used_machine_hours}\")\n",
        "print(f\"Unused Labor Hours: {90 - used_labor_hours}\")\n"
      ]
    },
    {
      "cell_type": "code",
      "source": [],
      "metadata": {
        "id": "zqEO0FVVwVx4"
      },
      "execution_count": null,
      "outputs": []
    }
  ]
}